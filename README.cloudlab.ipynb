{
 "cells": [
  {
   "cell_type": "code",
   "execution_count": null,
   "id": "manufactured-elder",
   "metadata": {},
   "outputs": [],
   "source": [
    "import json\n",
    "import pathlib\n",
    "import socket"
   ]
  },
  {
   "cell_type": "code",
   "execution_count": null,
   "id": "african-marathon",
   "metadata": {},
   "outputs": [],
   "source": [
    "import netifaces"
   ]
  },
  {
   "cell_type": "markdown",
   "id": "35c6bc5e",
   "metadata": {},
   "source": [
    "# Manual Preparation\n",
    "\n",
    "To enable pos to interact with cloudlab on your behave, please ensure that:\n",
    "\n",
    "- you have running management server using the `pos-daemon`; mail `pos` at `net.in.tum.de` for details\n",
    "- your cloudlab key file\n",
    "- a file containing your cloudlab password\n",
    "\n",
    "are available on the management host running this notebook.\n",
    "Moreover, add your cloudlab username.\n",
    "Update the following variables as needed:"
   ]
  },
  {
   "cell_type": "code",
   "execution_count": null,
   "id": "36298d58",
   "metadata": {},
   "outputs": [],
   "source": [
    "CLOUDLAB_USER_NAME = 'hstubbe'\n",
    "CLOUDLAB_KEY_FILE = '/home/debian/cloudlab.pem'\n",
    "CLOUDLAB_PASS_FILE = '/home/debian/cloudlab.pass'"
   ]
  },
  {
   "cell_type": "code",
   "execution_count": null,
   "id": "0f995b4a",
   "metadata": {},
   "outputs": [],
   "source": [
    "try:\n",
    "    CLOUDLAB_KEY_FILE = pathlib.Path(CLOUDLAB_KEY_FILE).resolve(strict=True)\n",
    "    CLOUDLAB_PASS_FILE = pathlib.Path(CLOUDLAB_PASS_FILE).resolve(strict=True)\n",
    "except FileNotFoundError as exception:\n",
    "    raise ValueError(\"Ensure all required files are present, as mentioned in the cells above\") from exception"
   ]
  },
  {
   "cell_type": "markdown",
   "id": "622cc998",
   "metadata": {},
   "source": [
    "# Automatic Configuration\n",
    "\n",
    "To deploy the pos experiment controller, some configuration is required.\n",
    "The following cells will try to determine a suitable external and internal network interface."
   ]
  },
  {
   "cell_type": "code",
   "execution_count": null,
   "id": "restricted-scholarship",
   "metadata": {},
   "outputs": [],
   "source": [
    "try:\n",
    "    IFADDRS = {\n",
    "        name: netifaces.ifaddresses(name)\n",
    "        for name in netifaces.interfaces()\n",
    "        if name != \"lo\"\n",
    "    }\n",
    "    INTERNAL = \"br0\" # dedicated bridge interface for internal traffic\n",
    "    UPLINK = next(name for name, config in IFADDRS.items() if netifaces.AF_INET in config)\n",
    "except StopIteration as exception:\n",
    "    raise ValueError(\"Unable to select interfaces, check host configuration\") from exception"
   ]
  },
  {
   "cell_type": "code",
   "execution_count": null,
   "id": "coral-maria",
   "metadata": {},
   "outputs": [],
   "source": [
    "CONFIG = {\"metadata\":{\n",
    "    \"project_id\": \"cloudlab\",\n",
    "    \"management_server\": {\n",
    "        \"name\": socket.gethostname(),\n",
    "        # password-based SSH authentication is disabled; use a stronger password before enabling it\n",
    "        \"password\": \"pos\",\n",
    "        \"mac\": {\n",
    "            \"internal\": IFADDRS[INTERNAL][netifaces.AF_LINK][0]['addr'],\n",
    "            \"uplink\": IFADDRS[UPLINK][netifaces.AF_LINK][0]['addr'],\n",
    "        },\n",
    "        \"ip4\": {\n",
    "            \"floating\": \"localhost\",\n",
    "            # any /12 in 172.16.0.0 that does not interfere with other networks\n",
    "            \"internal\": \"172.16.0.1/12\",\n",
    "            \"uplink\": f\"{IFADDRS[UPLINK][netifaces.AF_INET][0]['addr']}/21\",\n",
    "        },\n",
    "        \"ip6\": {\n",
    "            # any /64 that does not interfere with other networks\n",
    "            \"internal\": \"fd20:59bc:8a88::1/64\",\n",
    "            # cloudlab does not offer IPv6, but pos assumes presence of such new/advanced features\n",
    "            \"uplink\": \"fd4f:ee21:c810::1/64\",\n",
    "        }\n",
    "    },\n",
    "    \"experiment_server\": [],\n",
    "    \"geni\": {\n",
    "        \"username\": str(CLOUDLAB_USER_NAME),\n",
    "        \"key_file\": str(CLOUDLAB_KEY_FILE),\n",
    "        \"pass_file\": str(CLOUDLAB_PASS_FILE),\n",
    "    }\n",
    "}}"
   ]
  },
  {
   "cell_type": "code",
   "execution_count": null,
   "id": "respected-circuit",
   "metadata": {},
   "outputs": [],
   "source": [
    "DEPLOY_POSD_JSON = pathlib.Path.cwd().joinpath(\"deploy-posd.json\")\n",
    "with DEPLOY_POSD_JSON.open(\"tw\", encoding=\"utf8\") as deploy_posd_json:\n",
    "    json.dump(CONFIG, deploy_posd_json, indent=4)\n",
    "DEPLOY_POSD_YAML = f\"{pathlib.Path.home()}/pos-deployment/deploy-posd.yaml\""
   ]
  },
  {
   "cell_type": "markdown",
   "id": "0460d24e",
   "metadata": {},
   "source": [
    "# pos Experiment Controller Deployment\n",
    "\n",
    "Following configuration, the pos experiment contoller is deployed via Ansible.\n",
    "This step can take a while, as cloudlab puts it \"Patience please\"."
   ]
  },
  {
   "cell_type": "code",
   "execution_count": null,
   "id": "sound-assumption",
   "metadata": {
    "scrolled": false
   },
   "outputs": [],
   "source": [
    "!ansible-playbook \\\n",
    "    -i \"localhost,\" \\\n",
    "    -e \"ansible_user=debian\" \\\n",
    "    -e \"ansible_connection=local\" \\\n",
    "    -e \"deploy_posd_json={DEPLOY_POSD_JSON}\" \\\n",
    "    -e \"@{DEPLOY_POSD_JSON}\" \\\n",
    "    \"{DEPLOY_POSD_YAML}\""
   ]
  },
  {
   "cell_type": "markdown",
   "id": "73a74430",
   "metadata": {},
   "source": [
    "# Validate Deployment\n",
    "\n",
    "After a successfull deployment, the following invokation of pos should work:"
   ]
  },
  {
   "cell_type": "code",
   "execution_count": null,
   "id": "ab8bde03",
   "metadata": {},
   "outputs": [],
   "source": [
    "import poslib.api as pos\n",
    "pos.nodes.list_all()  # note: no nodes configured, yet"
   ]
  },
  {
   "cell_type": "markdown",
   "id": "d9d9a065",
   "metadata": {},
   "source": [
    "# Configure Experiment Nodes\n",
    "Given that the pos experiment controller is deployed successfully, proceed with instantiating GENI nodes and making them available to pos."
   ]
  },
  {
   "cell_type": "code",
   "execution_count": null,
   "id": "113cdbed",
   "metadata": {},
   "outputs": [],
   "source": [
    "import json\n",
    "import pathlib\n",
    "import uuid"
   ]
  },
  {
   "cell_type": "code",
   "execution_count": null,
   "id": "deecfa1a",
   "metadata": {},
   "outputs": [],
   "source": [
    "import geni\n",
    "import geni.portal\n",
    "import poslib.api as pos"
   ]
  },
  {
   "cell_type": "code",
   "execution_count": null,
   "id": "e24bda34",
   "metadata": {},
   "outputs": [],
   "source": [
    "# A plain Debian bullseye image, created with mandelstamm\n",
    "disk_image = \"https://pos-x.pages.gitlab.lrz.de/emulab/image-files/debian-10-mandelstamm.xml\"\n",
    "disk_image += f\"?uuid={str(uuid.uuid4())}\"\n",
    "# Experiment node hardware type\n",
    "hardware_type = \"c220g2\"\n",
    "# Duration of the GENI allocation\n",
    "duration = 16 * 60 # minutes\n",
    "# Name of the GENI slice\n",
    "slice_name = \"pos-experiment\""
   ]
  },
  {
   "cell_type": "code",
   "execution_count": null,
   "id": "00250b45",
   "metadata": {},
   "outputs": [],
   "source": [
    "portal_context = geni.portal.Context()\n",
    "request_rspec = portal_context.makeRequestRSpec()\n",
    "\n",
    "experiment1 = geni.rspec.pg.RawPC(\"experiment-1\")\n",
    "experiment1.disk_image = disk_image\n",
    "experiment1.hardware_type = hardware_type\n",
    "experiment1_ifs = experiment1.addInterface(\"eth1\"), experiment1.addInterface(\"eth2\")\n",
    "request_rspec.addResource(experiment1)\n",
    "\n",
    "experiment2 = geni.rspec.pg.RawPC(\"experiment-2\")\n",
    "experiment2.disk_image = disk_image\n",
    "experiment2.hardware_type = hardware_type\n",
    "experiment2_ifs = experiment2.addInterface(\"eth1\"), experiment2.addInterface(\"eth2\")\n",
    "request_rspec.addResource(experiment2)\n",
    "\n",
    "link0 = geni.rspec.pg.Link()\n",
    "link0.addInterface(experiment1_ifs[0])\n",
    "link0.addInterface(experiment2_ifs[0])\n",
    "request_rspec.addResource(link0)\n",
    "\n",
    "link1 = geni.rspec.pg.Link()\n",
    "link1.addInterface(experiment1_ifs[1])\n",
    "link1.addInterface(experiment2_ifs[1])\n",
    "request_rspec.addResource(link1)"
   ]
  },
  {
   "cell_type": "code",
   "execution_count": null,
   "id": "53664586",
   "metadata": {},
   "outputs": [],
   "source": [
    "pos_geni_instantiate = pos.geni.instantiate(\n",
    "    request_rspec,\n",
    "    duration,\n",
    "    slice_name,\n",
    ")"
   ]
  },
  {
   "cell_type": "code",
   "execution_count": null,
   "id": "coral-indonesian",
   "metadata": {},
   "outputs": [],
   "source": [
    "with pathlib.Path(\"variables.json\").open(\"tw\", encoding=\"utf8\") as variables:\n",
    "    json.dump({\n",
    "        \"global\": {\n",
    "            \"loadgen_ingress_dev\": 2,\n",
    "            \"loadgen_egress_dev\": 1,\n",
    "            \"loadgen_ingress_if\": \"enp6s0f1\",\n",
    "            \"loadgen_egress_if\": \"enp6s0f0\",\n",
    "            \"dut_ingress_if\": \"enp6s0f0\",\n",
    "            \"dut_egress_if\": \"enp6s0f1\",\n",
    "        },\n",
    "        \"loop\": {\n",
    "            \"pkt_rate\": [500000, 1000000, \"...\", 14880000],\n",
    "        },\n",
    "    }, variables)"
   ]
  }
 ],
 "metadata": {
  "kernelspec": {
   "display_name": "Python 3",
   "language": "python",
   "name": "python3"
  },
  "language_info": {
   "codemirror_mode": {
    "name": "ipython",
    "version": 3
   },
   "file_extension": ".py",
   "mimetype": "text/x-python",
   "name": "python",
   "nbconvert_exporter": "python",
   "pygments_lexer": "ipython3",
   "version": "3.9.2"
  }
 },
 "nbformat": 4,
 "nbformat_minor": 5
}
