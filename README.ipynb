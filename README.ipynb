{
 "cells": [
  {
   "cell_type": "markdown",
   "id": "c01806c9",
   "metadata": {},
   "source": [
    "# Sample pos Experiment Controller Experiment\n",
    "\n",
    "This experiments outlines how the pos experiment controller can be employed to perform reproducible experiments, using the pos methodology, in different testbeds.\n",
    "To replicate the experiment, please select the appropriate README.\n",
    "To run the experiments on Chameleon, select [`README.chameleon.ipynb`](README.chameleon.ipynb).\n",
    "For a GENI-based testbed, such as cloudlab, use [`README.cloudlab.ipynb`](README.cloudlab.ipynb) (note that this experiment assumes use of cloudlab Utah)."
   ]
  }
 ],
 "metadata": {
  "kernelspec": {
   "display_name": "Python 3",
   "language": "python",
   "name": "python3"
  },
  "language_info": {
   "codemirror_mode": {
    "name": "ipython",
    "version": 3
   },
   "file_extension": ".py",
   "mimetype": "text/x-python",
   "name": "python",
   "nbconvert_exporter": "python",
   "pygments_lexer": "ipython3",
   "version": "3.10.7"
  }
 },
 "nbformat": 4,
 "nbformat_minor": 5
}
